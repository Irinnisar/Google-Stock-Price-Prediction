{
 "cells": [
  {
   "cell_type": "code",
   "execution_count": 32,
   "metadata": {},
   "outputs": [],
   "source": [
    "import numpy as np\n",
    "import pandas as pd\n",
    "import matplotlib.pyplot as plt\n",
    "from sklearn.preprocessing import MinMaxScaler"
   ]
  },
  {
   "cell_type": "code",
   "execution_count": 33,
   "metadata": {},
   "outputs": [
    {
     "data": {
      "text/html": [
       "<div>\n",
       "<style scoped>\n",
       "    .dataframe tbody tr th:only-of-type {\n",
       "        vertical-align: middle;\n",
       "    }\n",
       "\n",
       "    .dataframe tbody tr th {\n",
       "        vertical-align: top;\n",
       "    }\n",
       "\n",
       "    .dataframe thead th {\n",
       "        text-align: right;\n",
       "    }\n",
       "</style>\n",
       "<table border=\"1\" class=\"dataframe\">\n",
       "  <thead>\n",
       "    <tr style=\"text-align: right;\">\n",
       "      <th></th>\n",
       "      <th>date</th>\n",
       "      <th>open</th>\n",
       "      <th>high</th>\n",
       "      <th>low</th>\n",
       "      <th>close</th>\n",
       "      <th>volume</th>\n",
       "      <th>Name</th>\n",
       "    </tr>\n",
       "  </thead>\n",
       "  <tbody>\n",
       "    <tr>\n",
       "      <th>0</th>\n",
       "      <td>2013-02-08</td>\n",
       "      <td>15.07</td>\n",
       "      <td>15.12</td>\n",
       "      <td>14.63</td>\n",
       "      <td>14.75</td>\n",
       "      <td>8407500</td>\n",
       "      <td>AAL</td>\n",
       "    </tr>\n",
       "    <tr>\n",
       "      <th>1</th>\n",
       "      <td>2013-02-11</td>\n",
       "      <td>14.89</td>\n",
       "      <td>15.01</td>\n",
       "      <td>14.26</td>\n",
       "      <td>14.46</td>\n",
       "      <td>8882000</td>\n",
       "      <td>AAL</td>\n",
       "    </tr>\n",
       "    <tr>\n",
       "      <th>2</th>\n",
       "      <td>2013-02-12</td>\n",
       "      <td>14.45</td>\n",
       "      <td>14.51</td>\n",
       "      <td>14.10</td>\n",
       "      <td>14.27</td>\n",
       "      <td>8126000</td>\n",
       "      <td>AAL</td>\n",
       "    </tr>\n",
       "    <tr>\n",
       "      <th>3</th>\n",
       "      <td>2013-02-13</td>\n",
       "      <td>14.30</td>\n",
       "      <td>14.94</td>\n",
       "      <td>14.25</td>\n",
       "      <td>14.66</td>\n",
       "      <td>10259500</td>\n",
       "      <td>AAL</td>\n",
       "    </tr>\n",
       "    <tr>\n",
       "      <th>4</th>\n",
       "      <td>2013-02-14</td>\n",
       "      <td>14.94</td>\n",
       "      <td>14.96</td>\n",
       "      <td>13.16</td>\n",
       "      <td>13.99</td>\n",
       "      <td>31879900</td>\n",
       "      <td>AAL</td>\n",
       "    </tr>\n",
       "  </tbody>\n",
       "</table>\n",
       "</div>"
      ],
      "text/plain": [
       "         date   open   high    low  close    volume Name\n",
       "0  2013-02-08  15.07  15.12  14.63  14.75   8407500  AAL\n",
       "1  2013-02-11  14.89  15.01  14.26  14.46   8882000  AAL\n",
       "2  2013-02-12  14.45  14.51  14.10  14.27   8126000  AAL\n",
       "3  2013-02-13  14.30  14.94  14.25  14.66  10259500  AAL\n",
       "4  2013-02-14  14.94  14.96  13.16  13.99  31879900  AAL"
      ]
     },
     "execution_count": 33,
     "metadata": {},
     "output_type": "execute_result"
    }
   ],
   "source": [
    "data = pd.read_csv(r'C:\\Users\\IRINNISAR\\Downloads\\Amazon Stock Price\\AAL_data.csv', date_parser = True)\n",
    "data.head()"
   ]
  },
  {
   "cell_type": "code",
   "execution_count": 34,
   "metadata": {},
   "outputs": [
    {
     "data": {
      "text/html": [
       "<div>\n",
       "<style scoped>\n",
       "    .dataframe tbody tr th:only-of-type {\n",
       "        vertical-align: middle;\n",
       "    }\n",
       "\n",
       "    .dataframe tbody tr th {\n",
       "        vertical-align: top;\n",
       "    }\n",
       "\n",
       "    .dataframe thead th {\n",
       "        text-align: right;\n",
       "    }\n",
       "</style>\n",
       "<table border=\"1\" class=\"dataframe\">\n",
       "  <thead>\n",
       "    <tr style=\"text-align: right;\">\n",
       "      <th></th>\n",
       "      <th>date</th>\n",
       "      <th>open</th>\n",
       "      <th>high</th>\n",
       "      <th>low</th>\n",
       "      <th>close</th>\n",
       "      <th>volume</th>\n",
       "      <th>Name</th>\n",
       "    </tr>\n",
       "  </thead>\n",
       "  <tbody>\n",
       "    <tr>\n",
       "      <th>1254</th>\n",
       "      <td>2018-02-01</td>\n",
       "      <td>54.00</td>\n",
       "      <td>54.64</td>\n",
       "      <td>53.59</td>\n",
       "      <td>53.88</td>\n",
       "      <td>3623078</td>\n",
       "      <td>AAL</td>\n",
       "    </tr>\n",
       "    <tr>\n",
       "      <th>1255</th>\n",
       "      <td>2018-02-02</td>\n",
       "      <td>53.49</td>\n",
       "      <td>53.99</td>\n",
       "      <td>52.03</td>\n",
       "      <td>52.10</td>\n",
       "      <td>5109361</td>\n",
       "      <td>AAL</td>\n",
       "    </tr>\n",
       "    <tr>\n",
       "      <th>1256</th>\n",
       "      <td>2018-02-05</td>\n",
       "      <td>51.99</td>\n",
       "      <td>52.39</td>\n",
       "      <td>49.75</td>\n",
       "      <td>49.76</td>\n",
       "      <td>6878284</td>\n",
       "      <td>AAL</td>\n",
       "    </tr>\n",
       "    <tr>\n",
       "      <th>1257</th>\n",
       "      <td>2018-02-06</td>\n",
       "      <td>49.32</td>\n",
       "      <td>51.50</td>\n",
       "      <td>48.79</td>\n",
       "      <td>51.18</td>\n",
       "      <td>6782480</td>\n",
       "      <td>AAL</td>\n",
       "    </tr>\n",
       "    <tr>\n",
       "      <th>1258</th>\n",
       "      <td>2018-02-07</td>\n",
       "      <td>50.91</td>\n",
       "      <td>51.98</td>\n",
       "      <td>50.89</td>\n",
       "      <td>51.40</td>\n",
       "      <td>4845831</td>\n",
       "      <td>AAL</td>\n",
       "    </tr>\n",
       "  </tbody>\n",
       "</table>\n",
       "</div>"
      ],
      "text/plain": [
       "            date   open   high    low  close   volume Name\n",
       "1254  2018-02-01  54.00  54.64  53.59  53.88  3623078  AAL\n",
       "1255  2018-02-02  53.49  53.99  52.03  52.10  5109361  AAL\n",
       "1256  2018-02-05  51.99  52.39  49.75  49.76  6878284  AAL\n",
       "1257  2018-02-06  49.32  51.50  48.79  51.18  6782480  AAL\n",
       "1258  2018-02-07  50.91  51.98  50.89  51.40  4845831  AAL"
      ]
     },
     "execution_count": 34,
     "metadata": {},
     "output_type": "execute_result"
    }
   ],
   "source": [
    "data.tail()"
   ]
  },
  {
   "cell_type": "code",
   "execution_count": 35,
   "metadata": {},
   "outputs": [],
   "source": [
    "training_set = data[data['date']<'2016-01-01'].copy()\n",
    "test_set = data[data['date']>='2016-01-01'].copy()"
   ]
  },
  {
   "cell_type": "code",
   "execution_count": 36,
   "metadata": {},
   "outputs": [],
   "source": [
    "training_set = training_set.iloc[:,1:2].values\n",
    "test_set = test_set.iloc[:,1:2].values"
   ]
  },
  {
   "cell_type": "code",
   "execution_count": 37,
   "metadata": {},
   "outputs": [],
   "source": [
    "scaler = MinMaxScaler()\n",
    "training_set = scaler.fit_transform(training_set)"
   ]
  },
  {
   "cell_type": "code",
   "execution_count": 38,
   "metadata": {},
   "outputs": [
    {
     "data": {
      "text/plain": [
       "((670, 60), (670,))"
      ]
     },
     "execution_count": 38,
     "metadata": {},
     "output_type": "execute_result"
    }
   ],
   "source": [
    "X_train = []\n",
    "y_train = []\n",
    "for i in range(60, training_set.shape[0]):\n",
    "    X_train.append(training_set[i-60:i,0])\n",
    "    y_train.append(training_set[i,0])\n",
    "X_train, y_train = np.array(X_train), np.array(y_train)\n",
    "X_train.shape, y_train.shape"
   ]
  },
  {
   "cell_type": "code",
   "execution_count": 39,
   "metadata": {},
   "outputs": [
    {
     "data": {
      "text/plain": [
       "(670, 60, 1)"
      ]
     },
     "execution_count": 39,
     "metadata": {},
     "output_type": "execute_result"
    }
   ],
   "source": [
    "# reshaping\n",
    "X_train = np.reshape(X_train,(X_train.shape[0],X_train.shape[1],1))  #shape disesuaikan dg yg diminta lstm (samples, timestep, feature input)\n",
    "X_train.shape"
   ]
  },
  {
   "cell_type": "code",
   "execution_count": 40,
   "metadata": {},
   "outputs": [],
   "source": [
    "from tensorflow.keras import Sequential\n",
    "from tensorflow.keras.layers import Dense, LSTM, Dropout\n",
    "from keras.optimizers import SGD"
   ]
  },
  {
   "cell_type": "code",
   "execution_count": 41,
   "metadata": {},
   "outputs": [],
   "source": [
    "model = Sequential()\n",
    "\n",
    "model.add(LSTM(units = 50, activation = 'relu', return_sequences = True, input_shape = (X_train.shape[1], 1)))\n",
    "model.add(Dropout(0.2))\n",
    "\n",
    "model.add(LSTM(units = 50, activation = 'relu', return_sequences = True))\n",
    "model.add(Dropout(0.2))\n",
    "\n",
    "model.add(LSTM(units = 50, activation = 'relu', return_sequences = True))\n",
    "model.add(Dropout(0.2))\n",
    "\n",
    "model.add(LSTM(units = 50, activation = 'relu'))\n",
    "model.add(Dropout(0.2))\n",
    "\n",
    "model.add(Dense(units = 1))"
   ]
  },
  {
   "cell_type": "code",
   "execution_count": 42,
   "metadata": {},
   "outputs": [
    {
     "name": "stdout",
     "output_type": "stream",
     "text": [
      "_________________________________________________________________\n",
      "Layer (type)                 Output Shape              Param #   \n",
      "=================================================================\n",
      "lstm_4 (LSTM)                (None, 60, 50)            10400     \n",
      "_________________________________________________________________\n",
      "dropout_4 (Dropout)          (None, 60, 50)            0         \n",
      "_________________________________________________________________\n",
      "lstm_5 (LSTM)                (None, 60, 50)            20200     \n",
      "_________________________________________________________________\n",
      "dropout_5 (Dropout)          (None, 60, 50)            0         \n",
      "_________________________________________________________________\n",
      "lstm_6 (LSTM)                (None, 60, 50)            20200     \n",
      "_________________________________________________________________\n",
      "dropout_6 (Dropout)          (None, 60, 50)            0         \n",
      "_________________________________________________________________\n",
      "lstm_7 (LSTM)                (None, 50)                20200     \n",
      "_________________________________________________________________\n",
      "dropout_7 (Dropout)          (None, 50)                0         \n",
      "_________________________________________________________________\n",
      "dense_1 (Dense)              (None, 1)                 51        \n",
      "=================================================================\n",
      "Total params: 71,051\n",
      "Trainable params: 71,051\n",
      "Non-trainable params: 0\n",
      "_________________________________________________________________\n"
     ]
    }
   ],
   "source": [
    "model.summary()"
   ]
  },
  {
   "cell_type": "code",
   "execution_count": 43,
   "metadata": {},
   "outputs": [],
   "source": [
    "model.compile(optimizer='adam', loss = 'mean_squared_error')"
   ]
  },
  {
   "cell_type": "code",
   "execution_count": 44,
   "metadata": {},
   "outputs": [
    {
     "name": "stdout",
     "output_type": "stream",
     "text": [
      "Epoch 1/100\n",
      "670/670 [==============================] - 22s 33ms/sample - loss: 0.1865\n",
      "Epoch 2/100\n",
      "670/670 [==============================] - 6s 9ms/sample - loss: 0.0326\n",
      "Epoch 3/100\n",
      "670/670 [==============================] - 6s 9ms/sample - loss: 0.0145\n",
      "Epoch 4/100\n",
      "670/670 [==============================] - 5s 8ms/sample - loss: 0.0116\n",
      "Epoch 5/100\n",
      "670/670 [==============================] - 5s 8ms/sample - loss: 0.0103\n",
      "Epoch 6/100\n",
      "670/670 [==============================] - 5s 8ms/sample - loss: 0.0097\n",
      "Epoch 7/100\n",
      "670/670 [==============================] - 5s 8ms/sample - loss: 0.0098\n",
      "Epoch 8/100\n",
      "670/670 [==============================] - 5s 8ms/sample - loss: 0.0093\n",
      "Epoch 9/100\n",
      "670/670 [==============================] - 6s 8ms/sample - loss: 0.0099\n",
      "Epoch 10/100\n",
      "670/670 [==============================] - 5s 7ms/sample - loss: 0.0102\n",
      "Epoch 11/100\n",
      "670/670 [==============================] - 4s 6ms/sample - loss: 0.0084\n",
      "Epoch 12/100\n",
      "670/670 [==============================] - 5s 7ms/sample - loss: 0.0101\n",
      "Epoch 13/100\n",
      "670/670 [==============================] - 5s 7ms/sample - loss: 0.0093\n",
      "Epoch 14/100\n",
      "670/670 [==============================] - 4s 6ms/sample - loss: 0.0096\n",
      "Epoch 15/100\n",
      "670/670 [==============================] - 4s 6ms/sample - loss: 0.0087\n",
      "Epoch 16/100\n",
      "670/670 [==============================] - 4s 6ms/sample - loss: 0.0090\n",
      "Epoch 17/100\n",
      "670/670 [==============================] - 4s 6ms/sample - loss: 0.0076\n",
      "Epoch 18/100\n",
      "670/670 [==============================] - 5s 7ms/sample - loss: 0.0078\n",
      "Epoch 19/100\n",
      "670/670 [==============================] - 4s 6ms/sample - loss: 0.0085\n",
      "Epoch 20/100\n",
      "670/670 [==============================] - 4s 6ms/sample - loss: 0.0089\n",
      "Epoch 21/100\n",
      "670/670 [==============================] - 4s 6ms/sample - loss: 0.0088\n",
      "Epoch 22/100\n",
      "670/670 [==============================] - 4s 6ms/sample - loss: 0.0077\n",
      "Epoch 23/100\n",
      "670/670 [==============================] - 4s 6ms/sample - loss: 0.0076\n",
      "Epoch 24/100\n",
      "670/670 [==============================] - 4s 6ms/sample - loss: 0.0078\n",
      "Epoch 25/100\n",
      "670/670 [==============================] - 4s 6ms/sample - loss: 0.0079\n",
      "Epoch 26/100\n",
      "670/670 [==============================] - 4s 6ms/sample - loss: 0.0081\n",
      "Epoch 27/100\n",
      "670/670 [==============================] - 4s 6ms/sample - loss: 0.0086\n",
      "Epoch 28/100\n",
      "670/670 [==============================] - 4s 6ms/sample - loss: 0.0070\n",
      "Epoch 29/100\n",
      "670/670 [==============================] - 4s 6ms/sample - loss: 0.0083 0s - loss: 0\n",
      "Epoch 30/100\n",
      "670/670 [==============================] - 4s 6ms/sample - loss: 0.0074\n",
      "Epoch 31/100\n",
      "670/670 [==============================] - 4s 6ms/sample - loss: 0.0073\n",
      "Epoch 32/100\n",
      "670/670 [==============================] - 4s 6ms/sample - loss: 0.0073\n",
      "Epoch 33/100\n",
      "670/670 [==============================] - 5s 7ms/sample - loss: 0.0068\n",
      "Epoch 34/100\n",
      "670/670 [==============================] - 4s 6ms/sample - loss: 0.0072\n",
      "Epoch 35/100\n",
      "670/670 [==============================] - 4s 6ms/sample - loss: 0.0070\n",
      "Epoch 36/100\n",
      "670/670 [==============================] - 4s 6ms/sample - loss: 0.0065\n",
      "Epoch 37/100\n",
      "670/670 [==============================] - 5s 7ms/sample - loss: 0.0072 0s - loss: 0.0\n",
      "Epoch 38/100\n",
      "670/670 [==============================] - 6s 8ms/sample - loss: 0.0070\n",
      "Epoch 39/100\n",
      "670/670 [==============================] - 5s 7ms/sample - loss: 0.0067\n",
      "Epoch 40/100\n",
      "670/670 [==============================] - 4s 7ms/sample - loss: 0.0067\n",
      "Epoch 41/100\n",
      "670/670 [==============================] - 4s 7ms/sample - loss: 0.0074\n",
      "Epoch 42/100\n",
      "670/670 [==============================] - 6s 8ms/sample - loss: 0.0072\n",
      "Epoch 43/100\n",
      "670/670 [==============================] - 4s 7ms/sample - loss: 0.0067\n",
      "Epoch 44/100\n",
      "670/670 [==============================] - 4s 6ms/sample - loss: 0.0069\n",
      "Epoch 45/100\n",
      "670/670 [==============================] - 4s 6ms/sample - loss: 0.0070\n",
      "Epoch 46/100\n",
      "670/670 [==============================] - 5s 7ms/sample - loss: 0.0060\n",
      "Epoch 47/100\n",
      "670/670 [==============================] - 5s 8ms/sample - loss: 0.0068\n",
      "Epoch 48/100\n",
      "670/670 [==============================] - 6s 8ms/sample - loss: 0.0055\n",
      "Epoch 49/100\n",
      "670/670 [==============================] - 7s 11ms/sample - loss: 0.0067\n",
      "Epoch 50/100\n",
      "670/670 [==============================] - 8s 11ms/sample - loss: 0.0071\n",
      "Epoch 51/100\n",
      "670/670 [==============================] - 8s 12ms/sample - loss: 0.0067\n",
      "Epoch 52/100\n",
      "670/670 [==============================] - 8s 11ms/sample - loss: 0.0068\n",
      "Epoch 53/100\n",
      "670/670 [==============================] - 6s 9ms/sample - loss: 0.0065\n",
      "Epoch 54/100\n",
      "670/670 [==============================] - 6s 8ms/sample - loss: 0.0057\n",
      "Epoch 55/100\n",
      "670/670 [==============================] - 5s 8ms/sample - loss: 0.0058\n",
      "Epoch 56/100\n",
      "670/670 [==============================] - 6s 10ms/sample - loss: 0.0058\n",
      "Epoch 57/100\n",
      "670/670 [==============================] - 6s 9ms/sample - loss: 0.0067\n",
      "Epoch 58/100\n",
      "670/670 [==============================] - 6s 9ms/sample - loss: 0.0065\n",
      "Epoch 59/100\n",
      "670/670 [==============================] - 6s 8ms/sample - loss: 0.0064\n",
      "Epoch 60/100\n",
      "670/670 [==============================] - 5s 7ms/sample - loss: 0.0055\n",
      "Epoch 61/100\n",
      "670/670 [==============================] - 4s 7ms/sample - loss: 0.0065\n",
      "Epoch 62/100\n",
      "670/670 [==============================] - 5s 7ms/sample - loss: 0.0054\n",
      "Epoch 63/100\n",
      "670/670 [==============================] - 5s 7ms/sample - loss: 0.0067\n",
      "Epoch 64/100\n",
      "670/670 [==============================] - 4s 7ms/sample - loss: 0.0060\n",
      "Epoch 65/100\n",
      "670/670 [==============================] - 5s 7ms/sample - loss: 0.0056\n",
      "Epoch 66/100\n",
      "670/670 [==============================] - 5s 7ms/sample - loss: 0.0057\n",
      "Epoch 67/100\n",
      "670/670 [==============================] - 5s 7ms/sample - loss: 0.0059\n",
      "Epoch 68/100\n",
      "670/670 [==============================] - 5s 7ms/sample - loss: 0.0056\n",
      "Epoch 69/100\n",
      "670/670 [==============================] - 5s 7ms/sample - loss: 0.0060\n",
      "Epoch 70/100\n",
      "670/670 [==============================] - 5s 7ms/sample - loss: 0.0052\n",
      "Epoch 71/100\n",
      "670/670 [==============================] - 4s 6ms/sample - loss: 0.0060 2s - l\n",
      "Epoch 72/100\n",
      "670/670 [==============================] - 5s 7ms/sample - loss: 0.0050\n",
      "Epoch 73/100\n",
      "670/670 [==============================] - 4s 7ms/sample - loss: 0.0058\n",
      "Epoch 74/100\n",
      "670/670 [==============================] - 4s 6ms/sample - loss: 0.0055\n",
      "Epoch 75/100\n",
      "670/670 [==============================] - 4s 6ms/sample - loss: 0.0055\n",
      "Epoch 76/100\n",
      "670/670 [==============================] - 4s 7ms/sample - loss: 0.0060\n",
      "Epoch 77/100\n",
      "670/670 [==============================] - 4s 6ms/sample - loss: 0.0055\n",
      "Epoch 78/100\n",
      "670/670 [==============================] - 4s 6ms/sample - loss: 0.0051 1s - loss: \n",
      "Epoch 79/100\n",
      "670/670 [==============================] - 4s 6ms/sample - loss: 0.0047\n",
      "Epoch 80/100\n",
      "670/670 [==============================] - 4s 7ms/sample - loss: 0.0048\n",
      "Epoch 81/100\n",
      "670/670 [==============================] - 4s 6ms/sample - loss: 0.0056\n",
      "Epoch 82/100\n",
      "670/670 [==============================] - 4s 6ms/sample - loss: 0.0055\n",
      "Epoch 83/100\n",
      "670/670 [==============================] - 4s 7ms/sample - loss: 0.0054\n",
      "Epoch 84/100\n",
      "670/670 [==============================] - 4s 6ms/sample - loss: 0.0051\n",
      "Epoch 85/100\n",
      "670/670 [==============================] - 4s 6ms/sample - loss: 0.0052\n",
      "Epoch 86/100\n",
      "670/670 [==============================] - 4s 6ms/sample - loss: 0.0048\n",
      "Epoch 87/100\n",
      "670/670 [==============================] - 4s 6ms/sample - loss: 0.0051\n",
      "Epoch 88/100\n",
      "670/670 [==============================] - 4s 6ms/sample - loss: 0.0045\n",
      "Epoch 89/100\n",
      "670/670 [==============================] - 4s 6ms/sample - loss: 0.0050\n",
      "Epoch 90/100\n",
      "670/670 [==============================] - 4s 6ms/sample - loss: 0.0050\n",
      "Epoch 91/100\n",
      "670/670 [==============================] - 5s 7ms/sample - loss: 0.0051\n",
      "Epoch 92/100\n",
      "670/670 [==============================] - 5s 7ms/sample - loss: 0.0049\n",
      "Epoch 93/100\n",
      "670/670 [==============================] - 4s 6ms/sample - loss: 0.0043\n",
      "Epoch 94/100\n",
      "670/670 [==============================] - 4s 6ms/sample - loss: 0.0047\n",
      "Epoch 95/100\n",
      "670/670 [==============================] - 4s 6ms/sample - loss: 0.0047\n",
      "Epoch 96/100\n"
     ]
    },
    {
     "name": "stdout",
     "output_type": "stream",
     "text": [
      "670/670 [==============================] - 4s 6ms/sample - loss: 0.0049\n",
      "Epoch 97/100\n",
      "670/670 [==============================] - 4s 6ms/sample - loss: 0.0045\n",
      "Epoch 98/100\n",
      "670/670 [==============================] - 4s 6ms/sample - loss: 0.0045\n",
      "Epoch 99/100\n",
      "670/670 [==============================] - 4s 6ms/sample - loss: 0.0045\n",
      "Epoch 100/100\n",
      "670/670 [==============================] - 4s 6ms/sample - loss: 0.0044 0s - loss: 0.0\n"
     ]
    },
    {
     "data": {
      "text/plain": [
       "<tensorflow.python.keras.callbacks.History at 0x22f4f62d1d0>"
      ]
     },
     "execution_count": 44,
     "metadata": {},
     "output_type": "execute_result"
    }
   ],
   "source": [
    "model.fit(X_train, y_train, epochs=100, batch_size=32)"
   ]
  },
  {
   "cell_type": "code",
   "execution_count": 45,
   "metadata": {},
   "outputs": [],
   "source": [
    "dataset_total = pd.concat((data[data['date']<'2016-01-01']['open'], data[data['date']>='2016-01-01']['open']),axis=0)\n",
    "inputs = dataset_total[len(dataset_total)-len(test_set) - 60:].values\n",
    "inputs = inputs.reshape(-1,1)\n",
    "inputs  = scaler.transform(inputs)"
   ]
  },
  {
   "cell_type": "code",
   "execution_count": 46,
   "metadata": {},
   "outputs": [
    {
     "data": {
      "text/plain": [
       "(529, 60)"
      ]
     },
     "execution_count": 46,
     "metadata": {},
     "output_type": "execute_result"
    }
   ],
   "source": [
    "X_test = []\n",
    "\n",
    "for i in range(60, inputs.shape[0]):\n",
    "    X_test.append(inputs[i-60:i,0])\n",
    "X_test = np.array(X_test)\n",
    "X_test.shape"
   ]
  },
  {
   "cell_type": "code",
   "execution_count": 47,
   "metadata": {},
   "outputs": [
    {
     "data": {
      "text/plain": [
       "(529, 60, 1)"
      ]
     },
     "execution_count": 47,
     "metadata": {},
     "output_type": "execute_result"
    }
   ],
   "source": [
    "X_test = np.reshape(X_test, (X_test.shape[0], X_test.shape[1], 1))\n",
    "X_test.shape"
   ]
  },
  {
   "cell_type": "code",
   "execution_count": 48,
   "metadata": {},
   "outputs": [],
   "source": [
    "y_pred = model.predict(X_test)\n",
    "y_pred = scaler.inverse_transform(y_pred)"
   ]
  },
  {
   "cell_type": "code",
   "execution_count": 49,
   "metadata": {},
   "outputs": [
    {
     "data": {
      "image/png": "[encoded data removed]",
      "text/plain": [
       "<Figure size 1008x360 with 1 Axes>"
      ]
     },
     "metadata": {
      "needs_background": "light"
     },
     "output_type": "display_data"
    }
   ],
   "source": [
    "# Visualising the results\n",
    "plt.figure(figsize=(14,5))\n",
    "plt.plot(test_set, color = 'red', label = 'Real AAL Stock Price')\n",
    "plt.plot(y_pred, color = 'blue', label = 'Predicted AAL Stock Price')\n",
    "plt.title('AAL Stock Price Prediction')\n",
    "plt.xlabel('Time')\n",
    "plt.ylabel('AAL Stock Price')\n",
    "plt.legend()\n",
    "plt.show()"
   ]
  },
  {
   "cell_type": "code",
   "execution_count": 50,
   "metadata": {},
   "outputs": [
    {
     "name": "stdout",
     "output_type": "stream",
     "text": [
      "The root mean squared error is 2.584653088588016.\n"
     ]
    }
   ],
   "source": [
    "import math\n",
    "from sklearn.metrics import mean_squared_error\n",
    "rmse = math.sqrt(mean_squared_error(test_set, y_pred))\n",
    "print(\"The root mean squared error is {}.\".format(rmse))"
   ]
  }
 ],
 "metadata": {
  "kernelspec": {
   "display_name": "Python 3",
   "language": "python",
   "name": "python3"
  },
  "language_info": {
   "codemirror_mode": {
    "name": "ipython",
    "version": 3
   },
   "file_extension": ".py",
   "mimetype": "text/x-python",
   "name": "python",
   "nbconvert_exporter": "python",
   "pygments_lexer": "ipython3",
   "version": "3.7.1"
  }
 },
 "nbformat": 4,
 "nbformat_minor": 2
}
